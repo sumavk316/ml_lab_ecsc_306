{
 "cells": [
  {
   "cell_type": "markdown",
   "metadata": {},
   "source": [
    "# Assignment 1"
   ]
  },
  {
   "cell_type": "code",
   "execution_count": null,
   "metadata": {
    "collapsed": true
   },
   "outputs": [],
   "source": [
    "import tensorflow as tf\n",
    "with tf.name_scope(\"SquareAndAddition\"):\n",
    "    with tf.name_scope(\"Scope_A\"):\n",
    "        a=1\n",
    "        b=2\n",
    "        c = tf.pow(a, 2, name=\"square_of_a\")\n",
    "        d = tf.pow(b, 2, name=\"square_of_b\")\n",
    "        e = tf.add(c, d,name=\"addition_of_a_square_and_b_square\")\n",
    "    with tf.name_scope(\"Scope_B\"):\n",
    "        f = tf.multiply(tf.multiply(2,a),b, name=\"2ab\")\n",
    "       \n",
    "    \n",
    "    g = tf.add(e, f,name=\"Final\")\n",
    "    \n",
    "\n",
    "\n",
    "with tf.Session() as sess:\n",
    "    writer = tf.summary.FileWriter(\"/tmp/tboard/a\", sess.graph)\n",
    "    print(sess.run(g))\n",
    "    writer.close()\n"
   ]
  },
  {
   "cell_type": "code",
   "execution_count": null,
   "metadata": {
    "collapsed": true
   },
   "outputs": [],
   "source": [
    "import tensorflow as tf\n",
    "with tf.name_scope(\"CubeAndAddition\"):\n",
    "    with tf.name_scope(\"Scope_A\"):\n",
    "        a=4\n",
    "        b=2\n",
    "        c = tf.pow(a, 3, name=\"cube_of_a\")\n",
    "        d = tf.pow(b, 3, name=\"cube_of_b\")\n",
    "        e = tf.subtract(c, d,name=\"subtract_of_a_cube_and_b_cube\")\n",
    "    with tf.name_scope(\"Scope_B\"):\n",
    "        f = tf.multiply(tf.multiply(3,a),b, name=\"3ab\")\n",
    "        g = tf.multiply(f,tf.subtract(a,b), name=\"3ab_multiply_by_a_minus_b\")\n",
    "       \n",
    "    \n",
    "    h = tf.subtract(e, g,name=\"Final\")\n",
    "    \n",
    "\n",
    "\n",
    "with tf.Session() as sess:\n",
    "    writer = tf.summary.FileWriter(\"/tmp/tboard/b1\", sess.graph)\n",
    "    print(sess.run(h))\n",
    "    writer.close()\n"
   ]
  }
 ],
 "metadata": {
  "kernelspec": {
   "display_name": "Python 3",
   "language": "python",
   "name": "python3"
  },
  "language_info": {
   "codemirror_mode": {
    "name": "ipython",
    "version": 3
   },
   "file_extension": ".py",
   "mimetype": "text/x-python",
   "name": "python",
   "nbconvert_exporter": "python",
   "pygments_lexer": "ipython3",
   "version": "3.6.1"
  }
 },
 "nbformat": 4,
 "nbformat_minor": 2
}
